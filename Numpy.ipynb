{
 "cells": [
  {
   "cell_type": "code",
   "execution_count": 1,
   "id": "1f26b350",
   "metadata": {},
   "outputs": [],
   "source": [
    "import numpy as np\n",
    "import pandas as pd"
   ]
  },
  {
   "cell_type": "markdown",
   "id": "0d0f8225",
   "metadata": {},
   "source": [
    "# Data Types and attributes"
   ]
  },
  {
   "cell_type": "code",
   "execution_count": 2,
   "id": "ea2d3200",
   "metadata": {},
   "outputs": [
    {
     "data": {
      "text/plain": [
       "array([1, 2, 3])"
      ]
     },
     "execution_count": 2,
     "metadata": {},
     "output_type": "execute_result"
    }
   ],
   "source": [
    "#numpy main data type is ndarray\n",
    "a1 = np.array([1,2,3])\n",
    "a1"
   ]
  },
  {
   "cell_type": "code",
   "execution_count": 3,
   "id": "40b362ff",
   "metadata": {},
   "outputs": [
    {
     "data": {
      "text/plain": [
       "array([[1. , 2. , 3.9],\n",
       "       [4. , 5. , 6.5]])"
      ]
     },
     "execution_count": 3,
     "metadata": {},
     "output_type": "execute_result"
    }
   ],
   "source": [
    "a2 = np.array([[1,2,3.9],\n",
    "              [4,5,6.5]])\n",
    "a2"
   ]
  },
  {
   "cell_type": "code",
   "execution_count": 4,
   "id": "3fbae103",
   "metadata": {},
   "outputs": [
    {
     "data": {
      "text/plain": [
       "array([[[ 1,  2,  3],\n",
       "        [ 4,  5,  6],\n",
       "        [ 7,  8,  9],\n",
       "        [10, 11, 12],\n",
       "        [13, 14, 15],\n",
       "        [16, 17, 18]]])"
      ]
     },
     "execution_count": 4,
     "metadata": {},
     "output_type": "execute_result"
    }
   ],
   "source": [
    "a3 = np.array([[[1,2,3],\n",
    "              [4,5,6],\n",
    "               [7,8,9],\n",
    "               [10,11,12],\n",
    "               [13,14,15],\n",
    "               [16,17,18]]])\n",
    "a3"
   ]
  },
  {
   "cell_type": "code",
   "execution_count": 5,
   "id": "12bdea20",
   "metadata": {},
   "outputs": [
    {
     "data": {
      "text/plain": [
       "((3,), (2, 3), (1, 6, 3))"
      ]
     },
     "execution_count": 5,
     "metadata": {},
     "output_type": "execute_result"
    }
   ],
   "source": [
    "a1.shape, a2.shape, a3.shape"
   ]
  },
  {
   "cell_type": "code",
   "execution_count": 6,
   "id": "4d2fe832",
   "metadata": {},
   "outputs": [
    {
     "data": {
      "text/plain": [
       "(1, 2, 3)"
      ]
     },
     "execution_count": 6,
     "metadata": {},
     "output_type": "execute_result"
    }
   ],
   "source": [
    "a1.ndim, a2.ndim, a3.ndim"
   ]
  },
  {
   "cell_type": "code",
   "execution_count": 7,
   "id": "1d1593f8",
   "metadata": {},
   "outputs": [
    {
     "data": {
      "text/plain": [
       "(dtype('int64'), dtype('float64'), dtype('int64'))"
      ]
     },
     "execution_count": 7,
     "metadata": {},
     "output_type": "execute_result"
    }
   ],
   "source": [
    "a1.dtype, a2.dtype, a3.dtype"
   ]
  },
  {
   "cell_type": "code",
   "execution_count": 8,
   "id": "a82b88c6",
   "metadata": {},
   "outputs": [
    {
     "data": {
      "text/plain": [
       "(3, 6, 18)"
      ]
     },
     "execution_count": 8,
     "metadata": {},
     "output_type": "execute_result"
    }
   ],
   "source": [
    "a1.size, a2.size, a3.size"
   ]
  },
  {
   "cell_type": "code",
   "execution_count": 9,
   "id": "6b491fd7",
   "metadata": {},
   "outputs": [
    {
     "data": {
      "text/plain": [
       "(numpy.ndarray, numpy.ndarray, numpy.ndarray)"
      ]
     },
     "execution_count": 9,
     "metadata": {},
     "output_type": "execute_result"
    }
   ],
   "source": [
    "type(a1), type(a2), type(a3)"
   ]
  },
  {
   "cell_type": "code",
   "execution_count": 10,
   "id": "a1c5e142",
   "metadata": {},
   "outputs": [
    {
     "data": {
      "text/html": [
       "<div>\n",
       "<style scoped>\n",
       "    .dataframe tbody tr th:only-of-type {\n",
       "        vertical-align: middle;\n",
       "    }\n",
       "\n",
       "    .dataframe tbody tr th {\n",
       "        vertical-align: top;\n",
       "    }\n",
       "\n",
       "    .dataframe thead th {\n",
       "        text-align: right;\n",
       "    }\n",
       "</style>\n",
       "<table border=\"1\" class=\"dataframe\">\n",
       "  <thead>\n",
       "    <tr style=\"text-align: right;\">\n",
       "      <th></th>\n",
       "      <th>0</th>\n",
       "      <th>1</th>\n",
       "      <th>2</th>\n",
       "    </tr>\n",
       "  </thead>\n",
       "  <tbody>\n",
       "    <tr>\n",
       "      <th>0</th>\n",
       "      <td>1.0</td>\n",
       "      <td>2.0</td>\n",
       "      <td>3.9</td>\n",
       "    </tr>\n",
       "    <tr>\n",
       "      <th>1</th>\n",
       "      <td>4.0</td>\n",
       "      <td>5.0</td>\n",
       "      <td>6.5</td>\n",
       "    </tr>\n",
       "  </tbody>\n",
       "</table>\n",
       "</div>"
      ],
      "text/plain": [
       "     0    1    2\n",
       "0  1.0  2.0  3.9\n",
       "1  4.0  5.0  6.5"
      ]
     },
     "execution_count": 10,
     "metadata": {},
     "output_type": "execute_result"
    }
   ],
   "source": [
    "#creating a dataframe from a np array\n",
    "\n",
    "import pandas as pd\n",
    "\n",
    "df =pd.DataFrame(a2)\n",
    "df"
   ]
  },
  {
   "cell_type": "markdown",
   "id": "5aebd092",
   "metadata": {},
   "source": [
    "# Creating arrays`"
   ]
  },
  {
   "cell_type": "code",
   "execution_count": 11,
   "id": "2687de85",
   "metadata": {},
   "outputs": [
    {
     "data": {
      "text/plain": [
       "array([1, 2, 3])"
      ]
     },
     "execution_count": 11,
     "metadata": {},
     "output_type": "execute_result"
    }
   ],
   "source": [
    "sample_array = np.array([1,2,3])\n",
    "sample_array"
   ]
  },
  {
   "cell_type": "code",
   "execution_count": 12,
   "id": "4d361cdf",
   "metadata": {},
   "outputs": [
    {
     "data": {
      "text/plain": [
       "dtype('int64')"
      ]
     },
     "execution_count": 12,
     "metadata": {},
     "output_type": "execute_result"
    }
   ],
   "source": [
    "sample_array.dtype"
   ]
  },
  {
   "cell_type": "code",
   "execution_count": 13,
   "id": "cd9621f7",
   "metadata": {},
   "outputs": [
    {
     "data": {
      "text/plain": [
       "array([[1., 1., 1., 1.],\n",
       "       [1., 1., 1., 1.]])"
      ]
     },
     "execution_count": 13,
     "metadata": {},
     "output_type": "execute_result"
    }
   ],
   "source": [
    "ones = np.ones((2, 4))\n",
    "ones"
   ]
  },
  {
   "cell_type": "code",
   "execution_count": 14,
   "id": "5949f8ca",
   "metadata": {},
   "outputs": [
    {
     "data": {
      "text/plain": [
       "numpy.ndarray"
      ]
     },
     "execution_count": 14,
     "metadata": {},
     "output_type": "execute_result"
    }
   ],
   "source": [
    "type(ones)"
   ]
  },
  {
   "cell_type": "code",
   "execution_count": 15,
   "id": "91810c00",
   "metadata": {},
   "outputs": [
    {
     "data": {
      "text/plain": [
       "2"
      ]
     },
     "execution_count": 15,
     "metadata": {},
     "output_type": "execute_result"
    }
   ],
   "source": [
    "\n",
    "ones.ndim"
   ]
  },
  {
   "cell_type": "code",
   "execution_count": 16,
   "id": "60050c54",
   "metadata": {},
   "outputs": [
    {
     "data": {
      "text/plain": [
       "dtype('float64')"
      ]
     },
     "execution_count": 16,
     "metadata": {},
     "output_type": "execute_result"
    }
   ],
   "source": [
    "ones.dtype"
   ]
  },
  {
   "cell_type": "code",
   "execution_count": 17,
   "id": "8a41c1ed",
   "metadata": {},
   "outputs": [
    {
     "data": {
      "text/plain": [
       "8"
      ]
     },
     "execution_count": 17,
     "metadata": {},
     "output_type": "execute_result"
    }
   ],
   "source": [
    "ones.size"
   ]
  },
  {
   "cell_type": "code",
   "execution_count": 18,
   "id": "34a856d9",
   "metadata": {},
   "outputs": [
    {
     "data": {
      "text/plain": [
       "array([[0., 0., 0., 0.],\n",
       "       [0., 0., 0., 0.]])"
      ]
     },
     "execution_count": 18,
     "metadata": {},
     "output_type": "execute_result"
    }
   ],
   "source": [
    "zeros = np.zeros((2,4))\n",
    "zeros"
   ]
  },
  {
   "cell_type": "code",
   "execution_count": 19,
   "id": "be8f7f78",
   "metadata": {},
   "outputs": [
    {
     "name": "stdout",
     "output_type": "stream",
     "text": [
      "[ 5 10 15 20 25]\n"
     ]
    }
   ],
   "source": [
    "range_array = np.arange(5, 30, 5)\n",
    "print(range_array)"
   ]
  },
  {
   "cell_type": "code",
   "execution_count": 60,
   "id": "72255222",
   "metadata": {},
   "outputs": [
    {
     "data": {
      "text/plain": [
       "array([[0.55642943, 0.15986708, 0.14382937],\n",
       "       [0.64946303, 0.5392236 , 0.32568477],\n",
       "       [0.14701389, 0.15987007, 0.12941234],\n",
       "       [0.57892239, 0.09226017, 0.91054472],\n",
       "       [0.08297175, 0.80037846, 0.87713097]])"
      ]
     },
     "execution_count": 60,
     "metadata": {},
     "output_type": "execute_result"
    }
   ],
   "source": [
    "random_array1 = np.random.rand(5,3)\n",
    "random_array1"
   ]
  },
  {
   "cell_type": "code",
   "execution_count": 21,
   "id": "3634e826",
   "metadata": {},
   "outputs": [
    {
     "data": {
      "text/plain": [
       "array([[4, 2, 3, 3],\n",
       "       [4, 3, 2, 2],\n",
       "       [4, 2, 4, 2],\n",
       "       [3, 3, 4, 3],\n",
       "       [2, 4, 4, 4]])"
      ]
     },
     "execution_count": 21,
     "metadata": {},
     "output_type": "execute_result"
    }
   ],
   "source": [
    "random_array2 = np.random.randint(2,5, size =(5,4))\n",
    "random_array2"
   ]
  },
  {
   "cell_type": "code",
   "execution_count": 22,
   "id": "8d6c2d71",
   "metadata": {},
   "outputs": [
    {
     "data": {
      "text/plain": [
       "numpy.ndarray"
      ]
     },
     "execution_count": 22,
     "metadata": {},
     "output_type": "execute_result"
    }
   ],
   "source": [
    "type(random_array2)"
   ]
  },
  {
   "cell_type": "code",
   "execution_count": 23,
   "id": "3d6ab382",
   "metadata": {},
   "outputs": [
    {
     "data": {
      "text/plain": [
       "dtype('int64')"
      ]
     },
     "execution_count": 23,
     "metadata": {},
     "output_type": "execute_result"
    }
   ],
   "source": [
    "random_array2.dtype"
   ]
  },
  {
   "cell_type": "code",
   "execution_count": 24,
   "id": "9afe4481",
   "metadata": {},
   "outputs": [
    {
     "data": {
      "text/plain": [
       "(5, 4)"
      ]
     },
     "execution_count": 24,
     "metadata": {},
     "output_type": "execute_result"
    }
   ],
   "source": [
    "random_array2.shape"
   ]
  },
  {
   "cell_type": "code",
   "execution_count": 25,
   "id": "513a07dd",
   "metadata": {},
   "outputs": [
    {
     "data": {
      "text/plain": [
       "array([[0.71027438, 0.48590858, 0.18854955, 0.9440589 ],\n",
       "       [0.8827876 , 0.47126462, 0.75571441, 0.21913831],\n",
       "       [0.5314707 , 0.46710971, 0.43220213, 0.85996523]])"
      ]
     },
     "execution_count": 25,
     "metadata": {},
     "output_type": "execute_result"
    }
   ],
   "source": [
    "random_array3 = np.random.random((3, 4))\n",
    "random_array3"
   ]
  },
  {
   "cell_type": "code",
   "execution_count": 26,
   "id": "6647671b",
   "metadata": {},
   "outputs": [
    {
     "data": {
      "text/plain": [
       "array([[ 5,  0,  3, 11],\n",
       "       [ 3,  7,  9,  3],\n",
       "       [ 5,  2,  4,  7],\n",
       "       [ 6,  8,  8, 10],\n",
       "       [ 1,  6,  7,  7]])"
      ]
     },
     "execution_count": 26,
     "metadata": {},
     "output_type": "execute_result"
    }
   ],
   "source": [
    "#pseudo random nums\n",
    "np.random.seed(seed =0)\n",
    "random_array4 = np.random.randint(12, size =(5,4))\n",
    "random_array4"
   ]
  },
  {
   "cell_type": "markdown",
   "id": "05918f5f",
   "metadata": {},
   "source": [
    "# Viewing arrays and Metrices"
   ]
  },
  {
   "cell_type": "code",
   "execution_count": 27,
   "id": "76f9d6dd",
   "metadata": {},
   "outputs": [
    {
     "data": {
      "text/plain": [
       "array([ 0,  1,  2,  3,  4,  5,  6,  7,  8,  9, 10, 11])"
      ]
     },
     "execution_count": 27,
     "metadata": {},
     "output_type": "execute_result"
    }
   ],
   "source": [
    "np.unique(random_array4)"
   ]
  },
  {
   "cell_type": "code",
   "execution_count": 28,
   "id": "91bd6fe5",
   "metadata": {},
   "outputs": [
    {
     "data": {
      "text/plain": [
       "array([1, 2, 3])"
      ]
     },
     "execution_count": 28,
     "metadata": {},
     "output_type": "execute_result"
    }
   ],
   "source": [
    "a1"
   ]
  },
  {
   "cell_type": "code",
   "execution_count": 29,
   "id": "db44e747",
   "metadata": {},
   "outputs": [
    {
     "data": {
      "text/plain": [
       "array([[1. , 2. , 3.9],\n",
       "       [4. , 5. , 6.5]])"
      ]
     },
     "execution_count": 29,
     "metadata": {},
     "output_type": "execute_result"
    }
   ],
   "source": [
    "a2"
   ]
  },
  {
   "cell_type": "code",
   "execution_count": 30,
   "id": "d74ddd68",
   "metadata": {},
   "outputs": [
    {
     "data": {
      "text/plain": [
       "array([[[ 1,  2,  3],\n",
       "        [ 4,  5,  6],\n",
       "        [ 7,  8,  9],\n",
       "        [10, 11, 12],\n",
       "        [13, 14, 15],\n",
       "        [16, 17, 18]]])"
      ]
     },
     "execution_count": 30,
     "metadata": {},
     "output_type": "execute_result"
    }
   ],
   "source": [
    "a3"
   ]
  },
  {
   "cell_type": "code",
   "execution_count": 31,
   "id": "c3f31bcb",
   "metadata": {},
   "outputs": [
    {
     "data": {
      "text/plain": [
       "1"
      ]
     },
     "execution_count": 31,
     "metadata": {},
     "output_type": "execute_result"
    }
   ],
   "source": [
    "a1[0]"
   ]
  },
  {
   "cell_type": "code",
   "execution_count": 32,
   "id": "8f14da8f",
   "metadata": {},
   "outputs": [
    {
     "data": {
      "text/plain": [
       "(2, 3)"
      ]
     },
     "execution_count": 32,
     "metadata": {},
     "output_type": "execute_result"
    }
   ],
   "source": [
    "a2.shape\n"
   ]
  },
  {
   "cell_type": "code",
   "execution_count": 33,
   "id": "717dfb95",
   "metadata": {},
   "outputs": [
    {
     "data": {
      "text/plain": [
       "array([4. , 5. , 6.5])"
      ]
     },
     "execution_count": 33,
     "metadata": {},
     "output_type": "execute_result"
    }
   ],
   "source": [
    "a2[1]"
   ]
  },
  {
   "cell_type": "code",
   "execution_count": 34,
   "id": "63ebdfcd",
   "metadata": {},
   "outputs": [
    {
     "data": {
      "text/plain": [
       "(1, 6, 3)"
      ]
     },
     "execution_count": 34,
     "metadata": {},
     "output_type": "execute_result"
    }
   ],
   "source": [
    "a3.shape"
   ]
  },
  {
   "cell_type": "code",
   "execution_count": 35,
   "id": "e74b53cd",
   "metadata": {},
   "outputs": [
    {
     "data": {
      "text/plain": [
       "array([[[1, 2],\n",
       "        [4, 5]]])"
      ]
     },
     "execution_count": 35,
     "metadata": {},
     "output_type": "execute_result"
    }
   ],
   "source": [
    "a3[:2, :2, :2]"
   ]
  },
  {
   "cell_type": "code",
   "execution_count": 36,
   "id": "503b0e2a",
   "metadata": {},
   "outputs": [
    {
     "data": {
      "text/plain": [
       "array([[[[14,  8,  1,  5,  9, 13],\n",
       "         [ 8,  9,  4,  3,  0,  3],\n",
       "         [ 5, 14,  0,  2,  3,  8],\n",
       "         [ 1,  3, 13,  3,  3, 14],\n",
       "         [ 7,  0,  1,  9,  9,  0],\n",
       "         [10,  4,  7,  3, 14, 11],\n",
       "         [ 2,  7, 12,  2,  0,  0],\n",
       "         [ 4,  5,  5,  6,  8,  4],\n",
       "         [ 1,  4,  9, 10, 10,  8]],\n",
       "\n",
       "        [[ 1,  1,  7,  9,  9,  3],\n",
       "         [ 6,  7, 11, 14,  2, 11],\n",
       "         [ 0, 14,  3,  5, 12,  9],\n",
       "         [10,  4, 11,  4,  6,  4],\n",
       "         [ 4,  3, 12,  4,  4,  8],\n",
       "         [14,  4,  3, 10,  7, 13],\n",
       "         [ 5,  5,  0,  1,  5,  9],\n",
       "         [ 3,  0,  5, 14,  0,  1],\n",
       "         [ 2,  4,  2,  0, 13,  3]],\n",
       "\n",
       "        [[ 2, 10, 13,  0,  7,  5],\n",
       "         [ 9,  0, 10,  2, 11, 10],\n",
       "         [ 7, 11,  2,  9,  2, 14],\n",
       "         [ 3, 14, 11,  3,  2, 14],\n",
       "         [ 3,  4,  1,  2, 11, 14],\n",
       "         [ 9, 10,  1,  4, 10,  6],\n",
       "         [11,  8, 11,  2,  3,  0],\n",
       "         [ 0,  6,  0,  6,  3, 14],\n",
       "         [10,  3,  8, 12,  8, 13]],\n",
       "\n",
       "        [[14,  8, 13,  2,  3, 14],\n",
       "         [ 2, 11, 13,  0,  8,  8],\n",
       "         [ 3,  8, 10,  2,  8,  4],\n",
       "         [ 3, 12, 13, 14,  0,  4],\n",
       "         [ 3, 13, 11, 12,  6, 13],\n",
       "         [ 9, 13, 11,  8,  0,  8],\n",
       "         [13,  5, 14,  9,  0, 12],\n",
       "         [ 9,  6,  5, 13,  3,  1],\n",
       "         [ 8,  0,  4, 11, 11,  9]],\n",
       "\n",
       "        [[ 6,  5, 13,  7,  8,  8],\n",
       "         [ 9,  2,  8,  6, 11,  6],\n",
       "         [13,  9,  1,  6, 12,  8],\n",
       "         [13,  8,  3,  2,  3, 10],\n",
       "         [12,  6,  3,  6, 14, 13],\n",
       "         [ 5,  7, 11,  0, 11,  8],\n",
       "         [ 4, 10,  6, 11,  5, 13],\n",
       "         [12,  8,  2, 11,  3,  9],\n",
       "         [ 7,  5,  3, 14,  4,  5]],\n",
       "\n",
       "        [[13,  3,  3,  7,  9,  9],\n",
       "         [ 9,  7,  3, 14, 10,  2],\n",
       "         [12,  3,  9, 10, 11, 13],\n",
       "         [ 7,  7, 13,  5,  1, 12],\n",
       "         [ 2,  2,  8,  1,  5,  8],\n",
       "         [ 4,  0, 11,  2,  5, 14],\n",
       "         [ 5, 14,  0, 14,  8, 13],\n",
       "         [ 1,  1,  0,  3,  8, 11],\n",
       "         [ 8,  4,  4,  0,  9,  3]]],\n",
       "\n",
       "\n",
       "       [[[ 7, 12,  3,  2, 14, 13],\n",
       "         [ 1,  1,  2,  1, 13,  4],\n",
       "         [13,  2,  5,  5, 12, 12],\n",
       "         [ 5, 13,  2, 11,  5,  7],\n",
       "         [ 7, 11,  6, 14,  1,  6],\n",
       "         [ 7,  2, 12, 11,  3,  1],\n",
       "         [ 9, 13, 14,  5,  9,  9],\n",
       "         [ 2,  0, 11,  9, 12, 11],\n",
       "         [ 1,  9, 10,  0,  6,  0]],\n",
       "\n",
       "        [[10,  4, 14,  8,  4,  3],\n",
       "         [ 3,  8,  8, 11, 13, 11],\n",
       "         [14,  7,  0,  3,  8,  7],\n",
       "         [ 7, 13, 10,  1,  8,  4],\n",
       "         [ 7,  0, 11, 12,  4,  9],\n",
       "         [ 0, 10, 14,  6, 12,  4],\n",
       "         [ 2,  4,  6,  3, 10,  3],\n",
       "         [ 7,  8, 13, 13,  5,  0],\n",
       "         [ 8,  5, 11,  4,  7, 12]],\n",
       "\n",
       "        [[13, 10, 10,  4, 14,  1],\n",
       "         [11,  3,  3,  9,  2,  5],\n",
       "         [ 2,  3, 14,  5, 10, 11],\n",
       "         [ 7, 12, 12,  2, 13,  7],\n",
       "         [ 1,  6, 10,  5,  0, 14],\n",
       "         [11,  0, 10, 12,  3, 10],\n",
       "         [ 1, 10,  9, 12, 13,  9],\n",
       "         [ 6,  6,  7,  8, 13,  8],\n",
       "         [ 7,  0,  8,  6,  8,  9]],\n",
       "\n",
       "        [[ 8,  3,  6,  1,  7,  4],\n",
       "         [ 9,  2, 12,  0,  8,  2],\n",
       "         [13,  7,  8,  4,  4, 12],\n",
       "         [ 1,  7, 14,  6,  9,  4],\n",
       "         [ 1,  5,  9,  7, 11, 13],\n",
       "         [ 1,  3,  5,  7,  3,  6],\n",
       "         [ 6,  7,  9,  1,  9,  6],\n",
       "         [ 0,  3,  8,  4,  1,  4],\n",
       "         [ 5,  0,  3, 14, 10,  1]],\n",
       "\n",
       "        [[ 4,  4,  4,  0,  0, 10],\n",
       "         [13,  8, 14, 11, 11,  4],\n",
       "         [ 6,  9, 12, 11,  3,  3],\n",
       "         [12,  2,  1, 10,  2,  1],\n",
       "         [11,  3, 12,  4, 10,  1],\n",
       "         [ 1,  0,  7,  8, 10,  4],\n",
       "         [ 3,  5,  6,  3,  2,  9],\n",
       "         [ 8, 12,  1, 12,  4, 10],\n",
       "         [ 0,  8, 13,  3,  9,  5]],\n",
       "\n",
       "        [[ 5,  1,  7, 13, 14,  8],\n",
       "         [ 6,  4,  7,  3,  5, 11],\n",
       "         [12,  3,  6,  4,  7,  3],\n",
       "         [ 0,  5, 11, 11, 14,  9],\n",
       "         [ 3,  7,  5,  5, 12,  8],\n",
       "         [11, 14,  0,  8,  3,  6],\n",
       "         [ 9, 10,  3,  2, 11,  7],\n",
       "         [ 0,  3, 10, 14,  0,  3],\n",
       "         [ 6,  1, 12, 11,  9,  2]]]])"
      ]
     },
     "execution_count": 36,
     "metadata": {},
     "output_type": "execute_result"
    }
   ],
   "source": [
    "a4 =np.random.randint(15, size=(2,6,9, 6))\n",
    "a4"
   ]
  },
  {
   "cell_type": "code",
   "execution_count": 37,
   "id": "961f1e7f",
   "metadata": {},
   "outputs": [
    {
     "data": {
      "text/plain": [
       "((2, 6, 9, 6), 4)"
      ]
     },
     "execution_count": 37,
     "metadata": {},
     "output_type": "execute_result"
    }
   ],
   "source": [
    "a4.shape, a4.ndim"
   ]
  },
  {
   "cell_type": "code",
   "execution_count": 38,
   "id": "7fc33bc0",
   "metadata": {},
   "outputs": [
    {
     "data": {
      "text/plain": [
       "array([[[[14,  8,  1,  5],\n",
       "         [ 8,  9,  4,  3],\n",
       "         [ 5, 14,  0,  2],\n",
       "         [ 1,  3, 13,  3],\n",
       "         [ 7,  0,  1,  9],\n",
       "         [10,  4,  7,  3],\n",
       "         [ 2,  7, 12,  2],\n",
       "         [ 4,  5,  5,  6],\n",
       "         [ 1,  4,  9, 10]],\n",
       "\n",
       "        [[ 1,  1,  7,  9],\n",
       "         [ 6,  7, 11, 14],\n",
       "         [ 0, 14,  3,  5],\n",
       "         [10,  4, 11,  4],\n",
       "         [ 4,  3, 12,  4],\n",
       "         [14,  4,  3, 10],\n",
       "         [ 5,  5,  0,  1],\n",
       "         [ 3,  0,  5, 14],\n",
       "         [ 2,  4,  2,  0]],\n",
       "\n",
       "        [[ 2, 10, 13,  0],\n",
       "         [ 9,  0, 10,  2],\n",
       "         [ 7, 11,  2,  9],\n",
       "         [ 3, 14, 11,  3],\n",
       "         [ 3,  4,  1,  2],\n",
       "         [ 9, 10,  1,  4],\n",
       "         [11,  8, 11,  2],\n",
       "         [ 0,  6,  0,  6],\n",
       "         [10,  3,  8, 12]],\n",
       "\n",
       "        [[14,  8, 13,  2],\n",
       "         [ 2, 11, 13,  0],\n",
       "         [ 3,  8, 10,  2],\n",
       "         [ 3, 12, 13, 14],\n",
       "         [ 3, 13, 11, 12],\n",
       "         [ 9, 13, 11,  8],\n",
       "         [13,  5, 14,  9],\n",
       "         [ 9,  6,  5, 13],\n",
       "         [ 8,  0,  4, 11]],\n",
       "\n",
       "        [[ 6,  5, 13,  7],\n",
       "         [ 9,  2,  8,  6],\n",
       "         [13,  9,  1,  6],\n",
       "         [13,  8,  3,  2],\n",
       "         [12,  6,  3,  6],\n",
       "         [ 5,  7, 11,  0],\n",
       "         [ 4, 10,  6, 11],\n",
       "         [12,  8,  2, 11],\n",
       "         [ 7,  5,  3, 14]],\n",
       "\n",
       "        [[13,  3,  3,  7],\n",
       "         [ 9,  7,  3, 14],\n",
       "         [12,  3,  9, 10],\n",
       "         [ 7,  7, 13,  5],\n",
       "         [ 2,  2,  8,  1],\n",
       "         [ 4,  0, 11,  2],\n",
       "         [ 5, 14,  0, 14],\n",
       "         [ 1,  1,  0,  3],\n",
       "         [ 8,  4,  4,  0]]],\n",
       "\n",
       "\n",
       "       [[[ 7, 12,  3,  2],\n",
       "         [ 1,  1,  2,  1],\n",
       "         [13,  2,  5,  5],\n",
       "         [ 5, 13,  2, 11],\n",
       "         [ 7, 11,  6, 14],\n",
       "         [ 7,  2, 12, 11],\n",
       "         [ 9, 13, 14,  5],\n",
       "         [ 2,  0, 11,  9],\n",
       "         [ 1,  9, 10,  0]],\n",
       "\n",
       "        [[10,  4, 14,  8],\n",
       "         [ 3,  8,  8, 11],\n",
       "         [14,  7,  0,  3],\n",
       "         [ 7, 13, 10,  1],\n",
       "         [ 7,  0, 11, 12],\n",
       "         [ 0, 10, 14,  6],\n",
       "         [ 2,  4,  6,  3],\n",
       "         [ 7,  8, 13, 13],\n",
       "         [ 8,  5, 11,  4]],\n",
       "\n",
       "        [[13, 10, 10,  4],\n",
       "         [11,  3,  3,  9],\n",
       "         [ 2,  3, 14,  5],\n",
       "         [ 7, 12, 12,  2],\n",
       "         [ 1,  6, 10,  5],\n",
       "         [11,  0, 10, 12],\n",
       "         [ 1, 10,  9, 12],\n",
       "         [ 6,  6,  7,  8],\n",
       "         [ 7,  0,  8,  6]],\n",
       "\n",
       "        [[ 8,  3,  6,  1],\n",
       "         [ 9,  2, 12,  0],\n",
       "         [13,  7,  8,  4],\n",
       "         [ 1,  7, 14,  6],\n",
       "         [ 1,  5,  9,  7],\n",
       "         [ 1,  3,  5,  7],\n",
       "         [ 6,  7,  9,  1],\n",
       "         [ 0,  3,  8,  4],\n",
       "         [ 5,  0,  3, 14]],\n",
       "\n",
       "        [[ 4,  4,  4,  0],\n",
       "         [13,  8, 14, 11],\n",
       "         [ 6,  9, 12, 11],\n",
       "         [12,  2,  1, 10],\n",
       "         [11,  3, 12,  4],\n",
       "         [ 1,  0,  7,  8],\n",
       "         [ 3,  5,  6,  3],\n",
       "         [ 8, 12,  1, 12],\n",
       "         [ 0,  8, 13,  3]],\n",
       "\n",
       "        [[ 5,  1,  7, 13],\n",
       "         [ 6,  4,  7,  3],\n",
       "         [12,  3,  6,  4],\n",
       "         [ 0,  5, 11, 11],\n",
       "         [ 3,  7,  5,  5],\n",
       "         [11, 14,  0,  8],\n",
       "         [ 9, 10,  3,  2],\n",
       "         [ 0,  3, 10, 14],\n",
       "         [ 6,  1, 12, 11]]]])"
      ]
     },
     "execution_count": 38,
     "metadata": {},
     "output_type": "execute_result"
    }
   ],
   "source": [
    "#Get the first 4 nums in the inner most array\n",
    "a4[:, :, :, :4]"
   ]
  },
  {
   "cell_type": "code",
   "execution_count": 39,
   "id": "980a5af6",
   "metadata": {},
   "outputs": [
    {
     "data": {
      "text/plain": [
       "array([1, 2, 3])"
      ]
     },
     "execution_count": 39,
     "metadata": {},
     "output_type": "execute_result"
    }
   ],
   "source": [
    "#Math\n",
    "a1"
   ]
  },
  {
   "cell_type": "code",
   "execution_count": 40,
   "id": "7520fd07",
   "metadata": {},
   "outputs": [
    {
     "data": {
      "text/plain": [
       "array([1., 1., 1.])"
      ]
     },
     "execution_count": 40,
     "metadata": {},
     "output_type": "execute_result"
    }
   ],
   "source": [
    "ones =np.ones(3)\n",
    "ones"
   ]
  },
  {
   "cell_type": "code",
   "execution_count": 41,
   "id": "d7150f47",
   "metadata": {},
   "outputs": [
    {
     "data": {
      "text/plain": [
       "array([0., 1., 2.])"
      ]
     },
     "execution_count": 41,
     "metadata": {},
     "output_type": "execute_result"
    }
   ],
   "source": [
    "a1 - ones"
   ]
  },
  {
   "cell_type": "code",
   "execution_count": 42,
   "id": "0c90dc01",
   "metadata": {},
   "outputs": [
    {
     "data": {
      "text/plain": [
       "array([1., 2., 3.])"
      ]
     },
     "execution_count": 42,
     "metadata": {},
     "output_type": "execute_result"
    }
   ],
   "source": [
    "a1 * ones"
   ]
  },
  {
   "cell_type": "code",
   "execution_count": 43,
   "id": "217aaef8",
   "metadata": {},
   "outputs": [
    {
     "data": {
      "text/plain": [
       "array([[ 1. ,  4. , 11.7],\n",
       "       [ 4. , 10. , 19.5]])"
      ]
     },
     "execution_count": 43,
     "metadata": {},
     "output_type": "execute_result"
    }
   ],
   "source": [
    "a1 * a2"
   ]
  },
  {
   "cell_type": "code",
   "execution_count": 44,
   "id": "9b31949b",
   "metadata": {},
   "outputs": [
    {
     "data": {
      "text/plain": [
       "array([[1., 1., 1.],\n",
       "       [4., 2., 2.]])"
      ]
     },
     "execution_count": 44,
     "metadata": {},
     "output_type": "execute_result"
    }
   ],
   "source": [
    "#floor division removes the decimals. Rounds down\n",
    "a2//a1"
   ]
  },
  {
   "cell_type": "code",
   "execution_count": 45,
   "id": "9c993770",
   "metadata": {},
   "outputs": [
    {
     "data": {
      "text/plain": [
       "array([[1.        , 1.        , 1.3       ],\n",
       "       [4.        , 2.5       , 2.16666667]])"
      ]
     },
     "execution_count": 45,
     "metadata": {},
     "output_type": "execute_result"
    }
   ],
   "source": [
    "a2/a1"
   ]
  },
  {
   "cell_type": "code",
   "execution_count": 46,
   "id": "a13e248b",
   "metadata": {},
   "outputs": [
    {
     "data": {
      "text/plain": [
       "array([[ 1.  ,  4.  , 15.21],\n",
       "       [16.  , 25.  , 42.25]])"
      ]
     },
     "execution_count": 46,
     "metadata": {},
     "output_type": "execute_result"
    }
   ],
   "source": [
    "#raise the power\n",
    "a2**2"
   ]
  },
  {
   "cell_type": "code",
   "execution_count": 47,
   "id": "d4c651ed",
   "metadata": {},
   "outputs": [
    {
     "data": {
      "text/plain": [
       "array([[ 1.  ,  4.  , 15.21],\n",
       "       [16.  , 25.  , 42.25]])"
      ]
     },
     "execution_count": 47,
     "metadata": {},
     "output_type": "execute_result"
    }
   ],
   "source": [
    "np.square(a2)"
   ]
  },
  {
   "cell_type": "code",
   "execution_count": 48,
   "id": "c1140b54",
   "metadata": {},
   "outputs": [
    {
     "data": {
      "text/plain": [
       "array([2., 3., 4.])"
      ]
     },
     "execution_count": 48,
     "metadata": {},
     "output_type": "execute_result"
    }
   ],
   "source": [
    "np.add(a1, ones)"
   ]
  },
  {
   "cell_type": "code",
   "execution_count": 49,
   "id": "ceab7af8",
   "metadata": {},
   "outputs": [
    {
     "data": {
      "text/plain": [
       "array([1, 0, 1])"
      ]
     },
     "execution_count": 49,
     "metadata": {},
     "output_type": "execute_result"
    }
   ],
   "source": [
    "#modular show the remainder when divided\n",
    "a1 % 2"
   ]
  },
  {
   "cell_type": "code",
   "execution_count": 50,
   "id": "5ad557db",
   "metadata": {},
   "outputs": [
    {
     "data": {
      "text/plain": [
       "array([ 2.71828183,  7.3890561 , 20.08553692])"
      ]
     },
     "execution_count": 50,
     "metadata": {},
     "output_type": "execute_result"
    }
   ],
   "source": [
    "np.exp(a1)"
   ]
  },
  {
   "cell_type": "code",
   "execution_count": 51,
   "id": "93e566d7",
   "metadata": {},
   "outputs": [
    {
     "data": {
      "text/plain": [
       "array([0.        , 0.69314718, 1.09861229])"
      ]
     },
     "execution_count": 51,
     "metadata": {},
     "output_type": "execute_result"
    }
   ],
   "source": [
    "np.log(a1)"
   ]
  },
  {
   "cell_type": "markdown",
   "id": "fbfa8d36",
   "metadata": {},
   "source": [
    "# Aggregation\n"
   ]
  },
  {
   "cell_type": "code",
   "execution_count": 52,
   "id": "e11c43a8",
   "metadata": {},
   "outputs": [],
   "source": [
    "#Performing the same number of operations on the same things\n",
    "listy_list=[1,2,3]"
   ]
  },
  {
   "cell_type": "code",
   "execution_count": 53,
   "id": "1079d5b4",
   "metadata": {},
   "outputs": [
    {
     "data": {
      "text/plain": [
       "6"
      ]
     },
     "execution_count": 53,
     "metadata": {},
     "output_type": "execute_result"
    }
   ],
   "source": [
    "sum(listy_list)"
   ]
  },
  {
   "cell_type": "code",
   "execution_count": 54,
   "id": "e62d9ea6",
   "metadata": {},
   "outputs": [
    {
     "ename": "NameError",
     "evalue": "name 'al' is not defined",
     "output_type": "error",
     "traceback": [
      "\u001b[0;31m---------------------------------------------------------------------------\u001b[0m",
      "\u001b[0;31mNameError\u001b[0m                                 Traceback (most recent call last)",
      "Cell \u001b[0;32mIn[54], line 1\u001b[0m\n\u001b[0;32m----> 1\u001b[0m \u001b[38;5;28msum\u001b[39m(al)\n",
      "\u001b[0;31mNameError\u001b[0m: name 'al' is not defined"
     ]
    }
   ],
   "source": [
    "sum(al)"
   ]
  },
  {
   "cell_type": "code",
   "execution_count": null,
   "id": "88fdb0d2",
   "metadata": {},
   "outputs": [],
   "source": [
    "np.sum(a1)"
   ]
  },
  {
   "cell_type": "markdown",
   "id": "c965c83d",
   "metadata": {},
   "source": [
    " Use python methods(sum()) on python datatypes and Numpy methods on numpy arrays(np.sum())\n"
   ]
  },
  {
   "cell_type": "code",
   "execution_count": null,
   "id": "270a631b",
   "metadata": {},
   "outputs": [],
   "source": [
    "# create a massive numpy array\n",
    "massive_array = np. random.random(100000)\n",
    "massive_array.size"
   ]
  },
  {
   "cell_type": "code",
   "execution_count": null,
   "id": "210e790d",
   "metadata": {},
   "outputs": [],
   "source": [
    "massive_array[:10]"
   ]
  },
  {
   "cell_type": "code",
   "execution_count": null,
   "id": "63b3853b",
   "metadata": {},
   "outputs": [],
   "source": [
    "%timeit sum(massive_array)# Pythods sum\n",
    "%timeit np.sum(massive_array) #Numpy's sum"
   ]
  },
  {
   "cell_type": "code",
   "execution_count": null,
   "id": "1d337ce2",
   "metadata": {},
   "outputs": [],
   "source": [
    "np.mean (a2)"
   ]
  },
  {
   "cell_type": "code",
   "execution_count": null,
   "id": "0dd48922",
   "metadata": {},
   "outputs": [],
   "source": [
    "np.max(a2)"
   ]
  },
  {
   "cell_type": "code",
   "execution_count": null,
   "id": "506876d3",
   "metadata": {},
   "outputs": [],
   "source": [
    "#measure of average degree to which each number is differen to the mean\n",
    "np.var(a2)"
   ]
  },
  {
   "cell_type": "code",
   "execution_count": null,
   "id": "ebaf7b4a",
   "metadata": {},
   "outputs": [],
   "source": [
    "#measure of how spreat out a group of numbers is from the mean\n",
    "np.std(a2)"
   ]
  },
  {
   "cell_type": "code",
   "execution_count": null,
   "id": "3979fe85",
   "metadata": {},
   "outputs": [],
   "source": [
    "#std = sqrt of var\n",
    "np.sqrt(np.var(a2))"
   ]
  },
  {
   "cell_type": "code",
   "execution_count": null,
   "id": "a281be1d",
   "metadata": {},
   "outputs": [],
   "source": [
    "#Demo of std and var\n",
    "high_var_array = np.array([1,100,200,300,4000,5000])\n",
    "low_var_array = np.array([2,4,6,8,10])"
   ]
  },
  {
   "cell_type": "code",
   "execution_count": null,
   "id": "dab85d8a",
   "metadata": {},
   "outputs": [],
   "source": [
    "np.var(high_var_array), np.var(low_var_array)"
   ]
  },
  {
   "cell_type": "code",
   "execution_count": null,
   "id": "14c4f8e7",
   "metadata": {},
   "outputs": [],
   "source": [
    "np.std(high_var_array), np.std(low_var_array)"
   ]
  },
  {
   "cell_type": "code",
   "execution_count": null,
   "id": "8d080cf2",
   "metadata": {},
   "outputs": [],
   "source": [
    "np.mean(high_var_array), np.mean(low_var_array)"
   ]
  },
  {
   "cell_type": "code",
   "execution_count": null,
   "id": "ff49b5e1",
   "metadata": {},
   "outputs": [],
   "source": [
    "%matplotlib inline\n",
    "import matplotlib.pyplot as plt\n",
    "plt.hist(high_var_array)\n",
    "plt.show()"
   ]
  },
  {
   "cell_type": "code",
   "execution_count": null,
   "id": "93ea0767",
   "metadata": {},
   "outputs": [],
   "source": [
    "plt.hist(low_var_array)\n",
    "plt.show()"
   ]
  },
  {
   "cell_type": "code",
   "execution_count": null,
   "id": "88b9188b",
   "metadata": {},
   "outputs": [],
   "source": [
    "a2.shape"
   ]
  },
  {
   "cell_type": "code",
   "execution_count": null,
   "id": "9a549ab9",
   "metadata": {},
   "outputs": [],
   "source": [
    "##Reshape and Traspose\n",
    "a2.reshape(2,3,1).shape"
   ]
  },
  {
   "cell_type": "code",
   "execution_count": null,
   "id": "9cb5ffe3",
   "metadata": {},
   "outputs": [],
   "source": [
    "a3.shape"
   ]
  },
  {
   "cell_type": "code",
   "execution_count": null,
   "id": "00eced46",
   "metadata": {},
   "outputs": [],
   "source": [
    "a2_reshape = a2.reshape(2,3,1)\n",
    "a2_reshape"
   ]
  },
  {
   "cell_type": "code",
   "execution_count": null,
   "id": "ecd8d1f5",
   "metadata": {},
   "outputs": [],
   "source": [
    " a3.shape"
   ]
  },
  {
   "cell_type": "code",
   "execution_count": null,
   "id": "ce160ebf",
   "metadata": {},
   "outputs": [],
   "source": [
    "a2_reshape * a3"
   ]
  },
  {
   "cell_type": "code",
   "execution_count": null,
   "id": "486e763d",
   "metadata": {},
   "outputs": [],
   "source": [
    "#Transpose\n",
    "a2.T.shape"
   ]
  },
  {
   "cell_type": "code",
   "execution_count": null,
   "id": "167eda2e",
   "metadata": {},
   "outputs": [],
   "source": [
    "#Dot product\n",
    "np.random.seed(seed=0)\n",
    "mat1 =np.random.randint(10, size=(5,3))\n",
    "mat2 =np.random.randint(10, size=(5,3))"
   ]
  },
  {
   "cell_type": "code",
   "execution_count": null,
   "id": "3fa8b1fd",
   "metadata": {},
   "outputs": [],
   "source": [
    "mat1"
   ]
  },
  {
   "cell_type": "code",
   "execution_count": null,
   "id": "92c1b3dd",
   "metadata": {},
   "outputs": [],
   "source": [
    "mat2"
   ]
  },
  {
   "cell_type": "code",
   "execution_count": null,
   "id": "fe20e733",
   "metadata": {},
   "outputs": [],
   "source": [
    "mat1 * mat2 #element-wise multiplication"
   ]
  },
  {
   "cell_type": "code",
   "execution_count": null,
   "id": "773f879f",
   "metadata": {},
   "outputs": [],
   "source": [
    "mat1.shape, mat2.shape"
   ]
  },
  {
   "cell_type": "code",
   "execution_count": null,
   "id": "7e264d30",
   "metadata": {},
   "outputs": [],
   "source": [
    "mat1.shape, mat2.T.shape #transposeit to flip inside numbers to be same"
   ]
  },
  {
   "cell_type": "code",
   "execution_count": null,
   "id": "1b2f42d8",
   "metadata": {},
   "outputs": [],
   "source": [
    "mat3 =np.dot(mat1, mat2.T)"
   ]
  },
  {
   "cell_type": "code",
   "execution_count": null,
   "id": "e780c25d",
   "metadata": {},
   "outputs": [],
   "source": [
    "mat3"
   ]
  },
  {
   "cell_type": "code",
   "execution_count": null,
   "id": "0c028756",
   "metadata": {},
   "outputs": [],
   "source": [
    "mat3.shape"
   ]
  },
  {
   "cell_type": "code",
   "execution_count": null,
   "id": "560540db",
   "metadata": {},
   "outputs": [],
   "source": [
    "#dot product example\n",
    "np.random.seed(0)\n",
    "#num of items sold\n",
    "sales_amounts =np.random.randint(20, size=(5,3))\n",
    "sales_amounts"
   ]
  },
  {
   "cell_type": "code",
   "execution_count": null,
   "id": "a528e8af",
   "metadata": {},
   "outputs": [],
   "source": [
    "#create a weekly sales dataframe\n",
    "weekly_sales = pd.DataFrame(sales_amounts,\n",
    "                           index=[\"Mon\", \"Tues\",\"Wed\",\"Thurs\",\"Fri\"],\n",
    "                           columns=[\"A butter\", \"P butter\", \"C butter\"] )\n",
    "weekly_sales"
   ]
  },
  {
   "cell_type": "code",
   "execution_count": null,
   "id": "47d1b2f5",
   "metadata": {},
   "outputs": [],
   "source": [
    "#create prices array\n",
    "prices =np.array([10,8,12])\n",
    "prices"
   ]
  },
  {
   "cell_type": "code",
   "execution_count": null,
   "id": "393caa5d",
   "metadata": {},
   "outputs": [],
   "source": [
    "#create butter dataframe\n",
    "butter_prices =pd.DataFrame(prices.reshape(1,3),#had to reshape since the rows and col didn't match\n",
    "                           index=[\"Prices\"],\n",
    "                           columns=[\"A butter\", \"P butter\", \"C butter\"])\n",
    "butter_prices"
   ]
  },
  {
   "cell_type": "code",
   "execution_count": null,
   "id": "033f6575",
   "metadata": {},
   "outputs": [],
   "source": [
    "total_sales = prices.dot(sales_amount)\n",
    "total_sales"
   ]
  },
  {
   "cell_type": "code",
   "execution_count": null,
   "id": "3381ad81",
   "metadata": {},
   "outputs": [],
   "source": [
    "#shape not align and need to be transpose\n",
    "total_sales = prices.dot(sales_amounts.T)\n",
    "total_sales"
   ]
  },
  {
   "cell_type": "code",
   "execution_count": 91,
   "id": "a7aa058b",
   "metadata": {},
   "outputs": [
    {
     "data": {
      "text/plain": [
       "((1, 3), (3, 5))"
      ]
     },
     "execution_count": 91,
     "metadata": {},
     "output_type": "execute_result"
    }
   ],
   "source": [
    "butter_prices.shape, weekly_sales.T.shape"
   ]
  },
  {
   "cell_type": "code",
   "execution_count": 94,
   "id": "4eff13e7",
   "metadata": {},
   "outputs": [],
   "source": [
    "#create daily sales\n",
    "daily_sales = butter_prices.dot(weekly_sales.T)"
   ]
  },
  {
   "cell_type": "code",
   "execution_count": 95,
   "id": "692a181b",
   "metadata": {},
   "outputs": [
    {
     "data": {
      "text/html": [
       "<div>\n",
       "<style scoped>\n",
       "    .dataframe tbody tr th:only-of-type {\n",
       "        vertical-align: middle;\n",
       "    }\n",
       "\n",
       "    .dataframe tbody tr th {\n",
       "        vertical-align: top;\n",
       "    }\n",
       "\n",
       "    .dataframe thead th {\n",
       "        text-align: right;\n",
       "    }\n",
       "</style>\n",
       "<table border=\"1\" class=\"dataframe\">\n",
       "  <thead>\n",
       "    <tr style=\"text-align: right;\">\n",
       "      <th></th>\n",
       "      <th>Mon</th>\n",
       "      <th>Tues</th>\n",
       "      <th>Wed</th>\n",
       "      <th>Thurs</th>\n",
       "      <th>Fri</th>\n",
       "    </tr>\n",
       "  </thead>\n",
       "  <tbody>\n",
       "    <tr>\n",
       "      <th>Prices</th>\n",
       "      <td>240</td>\n",
       "      <td>138</td>\n",
       "      <td>458</td>\n",
       "      <td>232</td>\n",
       "      <td>142</td>\n",
       "    </tr>\n",
       "  </tbody>\n",
       "</table>\n",
       "</div>"
      ],
      "text/plain": [
       "        Mon  Tues  Wed  Thurs  Fri\n",
       "Prices  240   138  458    232  142"
      ]
     },
     "execution_count": 95,
     "metadata": {},
     "output_type": "execute_result"
    }
   ],
   "source": [
    "daily_sales"
   ]
  },
  {
   "cell_type": "code",
   "execution_count": 97,
   "id": "a9cc6166",
   "metadata": {},
   "outputs": [
    {
     "data": {
      "text/html": [
       "<div>\n",
       "<style scoped>\n",
       "    .dataframe tbody tr th:only-of-type {\n",
       "        vertical-align: middle;\n",
       "    }\n",
       "\n",
       "    .dataframe tbody tr th {\n",
       "        vertical-align: top;\n",
       "    }\n",
       "\n",
       "    .dataframe thead th {\n",
       "        text-align: right;\n",
       "    }\n",
       "</style>\n",
       "<table border=\"1\" class=\"dataframe\">\n",
       "  <thead>\n",
       "    <tr style=\"text-align: right;\">\n",
       "      <th></th>\n",
       "      <th>A butter</th>\n",
       "      <th>P butter</th>\n",
       "      <th>C butter</th>\n",
       "      <th>Total ($)</th>\n",
       "    </tr>\n",
       "  </thead>\n",
       "  <tbody>\n",
       "    <tr>\n",
       "      <th>Mon</th>\n",
       "      <td>12</td>\n",
       "      <td>15</td>\n",
       "      <td>0</td>\n",
       "      <td>240</td>\n",
       "    </tr>\n",
       "    <tr>\n",
       "      <th>Tues</th>\n",
       "      <td>3</td>\n",
       "      <td>3</td>\n",
       "      <td>7</td>\n",
       "      <td>138</td>\n",
       "    </tr>\n",
       "    <tr>\n",
       "      <th>Wed</th>\n",
       "      <td>9</td>\n",
       "      <td>19</td>\n",
       "      <td>18</td>\n",
       "      <td>458</td>\n",
       "    </tr>\n",
       "    <tr>\n",
       "      <th>Thurs</th>\n",
       "      <td>4</td>\n",
       "      <td>6</td>\n",
       "      <td>12</td>\n",
       "      <td>232</td>\n",
       "    </tr>\n",
       "    <tr>\n",
       "      <th>Fri</th>\n",
       "      <td>1</td>\n",
       "      <td>6</td>\n",
       "      <td>7</td>\n",
       "      <td>142</td>\n",
       "    </tr>\n",
       "  </tbody>\n",
       "</table>\n",
       "</div>"
      ],
      "text/plain": [
       "       A butter  P butter  C butter  Total ($)\n",
       "Mon          12        15         0        240\n",
       "Tues          3         3         7        138\n",
       "Wed           9        19        18        458\n",
       "Thurs         4         6        12        232\n",
       "Fri           1         6         7        142"
      ]
     },
     "execution_count": 97,
     "metadata": {},
     "output_type": "execute_result"
    }
   ],
   "source": [
    "weekly_sales[\"Total ($)\"] =daily_sales.T\n",
    "weekly_sales"
   ]
  },
  {
   "cell_type": "code",
   "execution_count": 98,
   "id": "92f4c352",
   "metadata": {},
   "outputs": [
    {
     "data": {
      "text/plain": [
       "array([[False, False, False],\n",
       "       [False, False, False]])"
      ]
     },
     "execution_count": 98,
     "metadata": {},
     "output_type": "execute_result"
    }
   ],
   "source": [
    "###Comparision operators\n",
    "a1 >a2"
   ]
  },
  {
   "cell_type": "code",
   "execution_count": 99,
   "id": "7ebbf32c",
   "metadata": {},
   "outputs": [
    {
     "data": {
      "text/plain": [
       "array([[ True,  True,  True],\n",
       "       [ True,  True,  True]])"
      ]
     },
     "execution_count": 99,
     "metadata": {},
     "output_type": "execute_result"
    }
   ],
   "source": [
    "a1 <=a2"
   ]
  },
  {
   "cell_type": "code",
   "execution_count": 100,
   "id": "bc4c53ce",
   "metadata": {},
   "outputs": [
    {
     "data": {
      "text/plain": [
       "array([[ True,  True, False],\n",
       "       [False, False, False]])"
      ]
     },
     "execution_count": 100,
     "metadata": {},
     "output_type": "execute_result"
    }
   ],
   "source": [
    "a1 ==a2"
   ]
  },
  {
   "cell_type": "code",
   "execution_count": 101,
   "id": "5e98e172",
   "metadata": {},
   "outputs": [
    {
     "data": {
      "text/plain": [
       "array([[[False, False, False],\n",
       "        [ True,  True,  True],\n",
       "        [ True,  True,  True],\n",
       "        [ True,  True,  True],\n",
       "        [ True,  True,  True],\n",
       "        [ True,  True,  True]]])"
      ]
     },
     "execution_count": 101,
     "metadata": {},
     "output_type": "execute_result"
    }
   ],
   "source": [
    "a1!=a3"
   ]
  },
  {
   "cell_type": "code",
   "execution_count": 107,
   "id": "12ac483e",
   "metadata": {},
   "outputs": [
    {
     "data": {
      "text/plain": [
       "array([[7, 8, 1, 5, 9],\n",
       "       [8, 9, 4, 3, 0],\n",
       "       [3, 5, 0, 2, 3]])"
      ]
     },
     "execution_count": 107,
     "metadata": {},
     "output_type": "execute_result"
    }
   ],
   "source": [
    "##Sorting arrays\n",
    "random_array = np.random.randint(10, size=(3,5))\n",
    "random_array"
   ]
  },
  {
   "cell_type": "code",
   "execution_count": 108,
   "id": "8e474b20",
   "metadata": {},
   "outputs": [
    {
     "data": {
      "text/plain": [
       "(3, 5)"
      ]
     },
     "execution_count": 108,
     "metadata": {},
     "output_type": "execute_result"
    }
   ],
   "source": [
    "random_array.shape\n"
   ]
  },
  {
   "cell_type": "code",
   "execution_count": 109,
   "id": "04f4b730",
   "metadata": {},
   "outputs": [
    {
     "data": {
      "text/plain": [
       "array([[1, 5, 7, 8, 9],\n",
       "       [0, 3, 4, 8, 9],\n",
       "       [0, 2, 3, 3, 5]])"
      ]
     },
     "execution_count": 109,
     "metadata": {},
     "output_type": "execute_result"
    }
   ],
   "source": [
    "np.sort(random_array)"
   ]
  },
  {
   "cell_type": "code",
   "execution_count": 110,
   "id": "a25b4769",
   "metadata": {},
   "outputs": [
    {
     "data": {
      "text/plain": [
       "array([[2, 3, 0, 1, 4],\n",
       "       [4, 3, 2, 0, 1],\n",
       "       [2, 3, 0, 4, 1]])"
      ]
     },
     "execution_count": 110,
     "metadata": {},
     "output_type": "execute_result"
    }
   ],
   "source": [
    "np.argsort(random_array)"
   ]
  },
  {
   "cell_type": "code",
   "execution_count": 115,
   "id": "67287dc6",
   "metadata": {},
   "outputs": [
    {
     "data": {
      "text/plain": [
       "array([1, 1, 1, 0, 0])"
      ]
     },
     "execution_count": 115,
     "metadata": {},
     "output_type": "execute_result"
    }
   ],
   "source": [
    "np.argmax(random_array, axis=0)"
   ]
  },
  {
   "cell_type": "code",
   "execution_count": 116,
   "id": "d683d118",
   "metadata": {},
   "outputs": [
    {
     "data": {
      "text/plain": [
       "array([4, 1, 1])"
      ]
     },
     "execution_count": 116,
     "metadata": {},
     "output_type": "execute_result"
    }
   ],
   "source": [
    "np.argmax(random_array, axis=1)"
   ]
  },
  {
   "cell_type": "code",
   "execution_count": 120,
   "id": "16dc803f",
   "metadata": {},
   "outputs": [
    {
     "data": {
      "text/plain": [
       "0"
      ]
     },
     "execution_count": 120,
     "metadata": {},
     "output_type": "execute_result"
    }
   ],
   "source": [
    "np.argmin(a1)"
   ]
  },
  {
   "cell_type": "code",
   "execution_count": 56,
   "id": "deae364e",
   "metadata": {},
   "outputs": [
    {
     "name": "stdout",
     "output_type": "stream",
     "text": [
      "<class 'numpy.ndarray'>\n"
     ]
    }
   ],
   "source": [
    "#Numpy exercise\n",
    "from matplotlib.image import imread\n",
    "car =imread(\"car-photo.png\")\n",
    "print(type(car))"
   ]
  },
  {
   "cell_type": "code",
   "execution_count": 57,
   "id": "cc6c3d18",
   "metadata": {},
   "outputs": [
    {
     "data": {
      "text/plain": [
       "(991300, (431, 575, 4))"
      ]
     },
     "execution_count": 57,
     "metadata": {},
     "output_type": "execute_result"
    }
   ],
   "source": [
    "car.size, car.shape"
   ]
  },
  {
   "cell_type": "code",
   "execution_count": 132,
   "id": "b4dd6d1a",
   "metadata": {},
   "outputs": [
    {
     "data": {
      "text/plain": [
       "array([[[0.5019608 , 0.50980395, 0.4862745 , 1.        ],\n",
       "        [0.3372549 , 0.34509805, 0.30588236, 1.        ],\n",
       "        [0.20392157, 0.21568628, 0.14901961, 1.        ],\n",
       "        ...,\n",
       "        [0.64705884, 0.7058824 , 0.54901963, 1.        ],\n",
       "        [0.59607846, 0.63529414, 0.45882353, 1.        ],\n",
       "        [0.44705883, 0.47058824, 0.3372549 , 1.        ]],\n",
       "\n",
       "       [[0.44313726, 0.43529412, 0.40392157, 1.        ],\n",
       "        [0.3137255 , 0.31764707, 0.27450982, 1.        ],\n",
       "        [0.2       , 0.21176471, 0.14117648, 1.        ],\n",
       "        ...,\n",
       "        [0.5058824 , 0.5372549 , 0.4117647 , 1.        ],\n",
       "        [0.49803922, 0.52156866, 0.39607844, 1.        ],\n",
       "        [0.4       , 0.42745098, 0.34117648, 1.        ]],\n",
       "\n",
       "       [[0.39607844, 0.38039216, 0.34117648, 1.        ],\n",
       "        [0.31764707, 0.3137255 , 0.27450982, 1.        ],\n",
       "        [0.28627452, 0.29411766, 0.24705882, 1.        ],\n",
       "        ...,\n",
       "        [0.44705883, 0.45882353, 0.32156864, 1.        ],\n",
       "        [0.45882353, 0.48235294, 0.3529412 , 1.        ],\n",
       "        [0.4509804 , 0.49019608, 0.38039216, 1.        ]],\n",
       "\n",
       "       ...,\n",
       "\n",
       "       [[0.47058824, 0.57254905, 0.6313726 , 1.        ],\n",
       "        [0.4392157 , 0.53333336, 0.5882353 , 1.        ],\n",
       "        [0.48235294, 0.5803922 , 0.6392157 , 1.        ],\n",
       "        ...,\n",
       "        [0.6156863 , 0.7529412 , 0.827451  , 1.        ],\n",
       "        [0.61960787, 0.7607843 , 0.83137256, 1.        ],\n",
       "        [0.5921569 , 0.73333335, 0.7921569 , 1.        ]],\n",
       "\n",
       "       [[0.4745098 , 0.5803922 , 0.6392157 , 1.        ],\n",
       "        [0.47058824, 0.58431375, 0.63529414, 1.        ],\n",
       "        [0.4117647 , 0.5019608 , 0.5529412 , 1.        ],\n",
       "        ...,\n",
       "        [0.54901963, 0.6784314 , 0.74509805, 1.        ],\n",
       "        [0.65882355, 0.8117647 , 0.8862745 , 1.        ],\n",
       "        [0.60784316, 0.74509805, 0.8117647 , 1.        ]],\n",
       "\n",
       "       [[0.4745098 , 0.57254905, 0.627451  , 1.        ],\n",
       "        [0.49411765, 0.6       , 0.65882355, 1.        ],\n",
       "        [0.49019608, 0.5921569 , 0.64705884, 1.        ],\n",
       "        ...,\n",
       "        [0.5294118 , 0.63529414, 0.69803923, 1.        ],\n",
       "        [0.5529412 , 0.67058825, 0.7372549 , 1.        ],\n",
       "        [0.6156863 , 0.73333335, 0.8       , 1.        ]]], dtype=float32)"
      ]
     },
     "execution_count": 132,
     "metadata": {},
     "output_type": "execute_result"
    }
   ],
   "source": [
    "car"
   ]
  },
  {
   "cell_type": "code",
   "execution_count": 58,
   "id": "e20b8bac",
   "metadata": {},
   "outputs": [
    {
     "name": "stdout",
     "output_type": "stream",
     "text": [
      "<class 'numpy.ndarray'>\n"
     ]
    }
   ],
   "source": [
    "panda =imread(\"panda.png\")\n",
    "print(type(panda))"
   ]
  },
  {
   "cell_type": "code",
   "execution_count": 61,
   "id": "9a332812",
   "metadata": {},
   "outputs": [
    {
     "data": {
      "text/plain": [
       "array([[[0.05490196, 0.10588235, 0.06666667],\n",
       "        [0.05490196, 0.10588235, 0.06666667],\n",
       "        [0.05490196, 0.10588235, 0.06666667],\n",
       "        ...,\n",
       "        [0.16470589, 0.12941177, 0.09411765],\n",
       "        [0.16470589, 0.12941177, 0.09411765],\n",
       "        [0.16470589, 0.12941177, 0.09411765]],\n",
       "\n",
       "       [[0.05490196, 0.10588235, 0.06666667],\n",
       "        [0.05490196, 0.10588235, 0.06666667],\n",
       "        [0.05490196, 0.10588235, 0.06666667],\n",
       "        ...,\n",
       "        [0.16470589, 0.12941177, 0.09411765],\n",
       "        [0.16470589, 0.12941177, 0.09411765],\n",
       "        [0.16470589, 0.12941177, 0.09411765]],\n",
       "\n",
       "       [[0.05490196, 0.10588235, 0.06666667],\n",
       "        [0.05490196, 0.10588235, 0.06666667],\n",
       "        [0.05490196, 0.10588235, 0.06666667],\n",
       "        ...,\n",
       "        [0.16470589, 0.12941177, 0.09411765],\n",
       "        [0.16470589, 0.12941177, 0.09411765],\n",
       "        [0.16470589, 0.12941177, 0.09411765]],\n",
       "\n",
       "       ...,\n",
       "\n",
       "       [[0.13333334, 0.07450981, 0.05490196],\n",
       "        [0.12156863, 0.0627451 , 0.04313726],\n",
       "        [0.10980392, 0.05098039, 0.03137255],\n",
       "        ...,\n",
       "        [0.02745098, 0.02745098, 0.03529412],\n",
       "        [0.02745098, 0.02745098, 0.03529412],\n",
       "        [0.02745098, 0.02745098, 0.03529412]],\n",
       "\n",
       "       [[0.13333334, 0.07450981, 0.05490196],\n",
       "        [0.12156863, 0.0627451 , 0.04313726],\n",
       "        [0.12156863, 0.0627451 , 0.04313726],\n",
       "        ...,\n",
       "        [0.02352941, 0.02352941, 0.03137255],\n",
       "        [0.02352941, 0.02352941, 0.03137255],\n",
       "        [0.02352941, 0.02352941, 0.03137255]],\n",
       "\n",
       "       [[0.13333334, 0.07450981, 0.05490196],\n",
       "        [0.12156863, 0.0627451 , 0.04313726],\n",
       "        [0.12156863, 0.0627451 , 0.04313726],\n",
       "        ...,\n",
       "        [0.02352941, 0.02352941, 0.03137255],\n",
       "        [0.02352941, 0.02352941, 0.03137255],\n",
       "        [0.02352941, 0.02352941, 0.03137255]]], dtype=float32)"
      ]
     },
     "execution_count": 61,
     "metadata": {},
     "output_type": "execute_result"
    }
   ],
   "source": [
    "panda "
   ]
  },
  {
   "cell_type": "code",
   "execution_count": null,
   "id": "568246b9",
   "metadata": {},
   "outputs": [],
   "source": [
    "panda.sa"
   ]
  }
 ],
 "metadata": {
  "kernelspec": {
   "display_name": "Python 3 (ipykernel)",
   "language": "python",
   "name": "python3"
  },
  "language_info": {
   "codemirror_mode": {
    "name": "ipython",
    "version": 3
   },
   "file_extension": ".py",
   "mimetype": "text/x-python",
   "name": "python",
   "nbconvert_exporter": "python",
   "pygments_lexer": "ipython3",
   "version": "3.11.3"
  }
 },
 "nbformat": 4,
 "nbformat_minor": 5
}
